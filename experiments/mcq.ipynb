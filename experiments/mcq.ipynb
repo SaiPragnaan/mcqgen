{
 "cells": [
  {
   "cell_type": "code",
   "execution_count": 22,
   "metadata": {},
   "outputs": [],
   "source": [
    "import os\n",
    "import json\n",
    "import pandas as pd\n",
    "import traceback"
   ]
  },
  {
   "cell_type": "code",
   "execution_count": 23,
   "metadata": {},
   "outputs": [
    {
     "data": {
      "text/plain": [
       "True"
      ]
     },
     "execution_count": 23,
     "metadata": {},
     "output_type": "execute_result"
    }
   ],
   "source": [
    "from langchain_google_genai import ChatGoogleGenerativeAI\n",
    "from dotenv import load_dotenv\n",
    "\n",
    "load_dotenv()"
   ]
  },
  {
   "cell_type": "code",
   "execution_count": 24,
   "metadata": {},
   "outputs": [],
   "source": [
    "KEY=os.getenv(\"GOOGLE_API_KEY\")"
   ]
  },
  {
   "cell_type": "code",
   "execution_count": 25,
   "metadata": {},
   "outputs": [
    {
     "data": {
      "text/plain": [
       "ChatGoogleGenerativeAI(model='models/gemini-1.5-flash', google_api_key=SecretStr('**********'), client=<google.ai.generativelanguage_v1beta.services.generative_service.client.GenerativeServiceClient object at 0x7d7c7f8f5310>, default_metadata=())"
      ]
     },
     "execution_count": 25,
     "metadata": {},
     "output_type": "execute_result"
    }
   ],
   "source": [
    "llm=ChatGoogleGenerativeAI(model=\"gemini-1.5-flash\")\n",
    "llm"
   ]
  },
  {
   "cell_type": "code",
   "execution_count": 26,
   "metadata": {},
   "outputs": [],
   "source": [
    "from langchain.prompts import PromptTemplate\n",
    "from langchain.chains import LLMChain,SequentialChain\n",
    "# from langchain.callbacks import get_openai_callback\n",
    "import PyPDF2"
   ]
  },
  {
   "cell_type": "code",
   "execution_count": 29,
   "metadata": {},
   "outputs": [],
   "source": [
    "RESPONSE_JSON={\n",
    "    \"1\":{\n",
    "        \"mcq\" : \"multiple choice question\",\n",
    "        \"options\" : {\n",
    "            \"a\" : \"choice here\",\n",
    "            \"b\" : \"choice here\",\n",
    "            \"c\" : \"choice here\",\n",
    "            \"d\" : \"choice here\"\n",
    "        },\n",
    "        \"correct\" : \"correct answer\"\n",
    "    },\n",
    "    \"2\":{\n",
    "        \"mcq\" : \"multiple choice question\",\n",
    "        \"options\" : {\n",
    "            \"a\" : \"choice here\",\n",
    "            \"b\" : \"choice here\",\n",
    "            \"c\" : \"choice here\",\n",
    "            \"d\" : \"choice here\"\n",
    "        },\n",
    "        \"correct\" : \"correct answer\"\n",
    "    },\n",
    "    \"3\":{\n",
    "        \"mcq\" : \"multiple choice question\",\n",
    "        \"options\" : {\n",
    "            \"a\" : \"choice here\",\n",
    "            \"b\" : \"choice here\",\n",
    "            \"c\" : \"choice here\",\n",
    "            \"d\" : \"choice here\"\n",
    "        },\n",
    "        \"correct\" : \"correct answer\"\n",
    "    }\n",
    "}"
   ]
  },
  {
   "cell_type": "code",
   "execution_count": 27,
   "metadata": {},
   "outputs": [],
   "source": [
    "TEMPLATE=\"\"\"\n",
    "TEXT : {text}\n",
    "You are an expert MCQ maker.Given the above text, it is your job to \\\n",
    "create a quiz of {number} multiple choice questions for {subject} students in {tone} tone.\n",
    "Make sure the questions are not repeated and check all the questions to be confirming the text as well.\n",
    "Make sure to format your response like RESPONSE_JSON below and use it as a guide. \\\n",
    "Ensure to make {number} MCQs\n",
    "\n",
    "### RESPONSE_JSON\n",
    "{response_json}\n",
    "\"\"\""
   ]
  },
  {
   "cell_type": "code",
   "execution_count": 30,
   "metadata": {},
   "outputs": [],
   "source": [
    "quiz_generation_prompt=PromptTemplate(\n",
    "    input_variables=[\"text\",\"number\",\"subject\",\"tone\",\"response_json\"],\n",
    "    template=TEMPLATE\n",
    ")"
   ]
  },
  {
   "cell_type": "code",
   "execution_count": 31,
   "metadata": {},
   "outputs": [
    {
     "name": "stderr",
     "output_type": "stream",
     "text": [
      "/tmp/ipykernel_16231/4090386649.py:1: LangChainDeprecationWarning: The class `LLMChain` was deprecated in LangChain 0.1.17 and will be removed in 1.0. Use :meth:`~RunnableSequence, e.g., `prompt | llm`` instead.\n",
      "  quiz_chain = LLMChain(llm=llm,prompt=quiz_generation_prompt,output_key=\"quiz\",verbose=True)\n"
     ]
    }
   ],
   "source": [
    "quiz_chain = LLMChain(llm=llm,prompt=quiz_generation_prompt,output_key=\"quiz\",verbose=True)"
   ]
  },
  {
   "cell_type": "code",
   "execution_count": 32,
   "metadata": {},
   "outputs": [],
   "source": [
    "TEMPLATE2=\"\"\"\n",
    "You are an expert english grammarian and writer. Given a Multiple Choice Quiz for {subject} students. \\\n",
    "You need to evaluate the complexity of the question and give a complete analysis of the quiz. Only use at max 50 words for complexity\n",
    "if the quiz is not at par with the cognitive and analytical abilities of the students, \\\n",
    "update the quiz questions which needs to be changed and change the tone such that it perfectly fits the student abilities \n",
    "Quiz_MCQs: \n",
    "{quiz}\n",
    " \n",
    "Check from an expert English Writer of the above quiz: \n",
    "\"\"\""
   ]
  },
  {
   "cell_type": "code",
   "execution_count": 33,
   "metadata": {},
   "outputs": [],
   "source": [
    "quiz_evaluation_prompt=PromptTemplate(\n",
    "    input_variables=[\"subject\",\"quiz\"],\n",
    "    template=TEMPLATE2\n",
    ")"
   ]
  },
  {
   "cell_type": "code",
   "execution_count": 34,
   "metadata": {},
   "outputs": [],
   "source": [
    "review_chain = LLMChain(llm=llm,prompt=quiz_evaluation_prompt,output_key=\"review\",verbose=True)"
   ]
  },
  {
   "cell_type": "code",
   "execution_count": 35,
   "metadata": {},
   "outputs": [],
   "source": [
    "generate_evaluate_chain=SequentialChain(\n",
    "    chains=[quiz_chain,review_chain],\n",
    "    input_variables=[\"text\",\"number\",\"subject\",\"tone\",\"response_json\"],\n",
    "    output_variables=[\"quiz\",\"review\"],\n",
    "    verbose=True\n",
    ")"
   ]
  },
  {
   "cell_type": "code",
   "execution_count": 36,
   "metadata": {},
   "outputs": [],
   "source": [
    "file_path='/home/unique/Dev/mcqgen/data.txt'"
   ]
  },
  {
   "cell_type": "code",
   "execution_count": 37,
   "metadata": {},
   "outputs": [],
   "source": [
    "with open(file_path,'r') as file:\n",
    "    TEXT=file.read()"
   ]
  },
  {
   "cell_type": "code",
   "execution_count": 38,
   "metadata": {},
   "outputs": [
    {
     "name": "stdout",
     "output_type": "stream",
     "text": [
      "The term machine learning was coined in 1959 by Arthur Samuel, an IBM employee and pioneer in the field of computer gaming and artificial intelligence. The synonym self-teaching computers was also used in this time period.\n",
      "\n",
      "Although the earliest machine learning model was introduced in the 1950s when Arthur Samuel invented a program that calculated the winning chance in checkers for each side, the history of machine learning roots back to decades of human desire and effort to study human cognitive processes. In 1949, Canadian psychologist Donald Hebb published the book The Organization of Behavior, in which he introduced a theoretical neural structure formed by certain interactions among nerve cells. Hebb's model of neurons interacting with one another set a groundwork for how AIs and machine learning algorithms work under nodes, or artificial neurons used by computers to communicate data. Other researchers who have studied human cognitive systems contributed to the modern machine learning technologies as well, including logician Walter Pitts and Warren McCulloch, who proposed the early mathematical models of neural networks to come up with algorithms that mirror human thought processes.\n",
      "\n",
      "By the early 1960s, an experimental \"learning machine\" with punched tape memory, called Cybertron, had been developed by Raytheon Company to analyse sonar signals, electrocardiograms, and speech patterns using rudimentary reinforcement learning. It was repetitively \"trained\" by a human operator/teacher to recognize patterns and equipped with a \"goof\" button to cause it to reevaluate incorrect decisions. A representative book on research into machine learning during the 1960s was Nilsson's book on Learning Machines, dealing mostly with machine learning for pattern classification. Interest related to pattern recognition continued into the 1970s, as described by Duda and Hart in 1973. In 1981 a report was given on using teaching strategies so that an artificial neural network learns to recognize 40 characters (26 letters, 10 digits, and 4 special symbols) from a computer terminal.\n",
      "\n",
      "Tom M. Mitchell provided a widely quoted, more formal definition of the algorithms studied in the machine learning field: \"A computer program is said to learn from experience E with respect to some class of tasks T and performance measure P if its performance at tasks in T, as measured by P, improves with experience E.\" This definition of the tasks in which machine learning is concerned offers a fundamentally operational definition rather than defining the field in cognitive terms. This follows Alan Turing's proposal in his paper \"Computing Machinery and Intelligence\", in which the question \"Can machines think?\" is replaced with the question \"Can machines do what we (as thinking entities) can do?\".\n",
      "\n",
      "Modern-day machine learning has two objectives. One is to classify data based on models which have been developed; the other purpose is to make predictions for future outcomes based on these models. A hypothetical algorithm specific to classifying data may use computer vision of moles coupled with supervised learning in order to train it to classify the cancerous moles. A machine learning algorithm for stock trading may inform the trader of future potential predictions.\n"
     ]
    }
   ],
   "source": [
    "print(TEXT)"
   ]
  },
  {
   "cell_type": "code",
   "execution_count": 39,
   "metadata": {},
   "outputs": [
    {
     "data": {
      "text/plain": [
       "'{\"1\": {\"mcq\": \"multiple choice question\", \"options\": {\"a\": \"choice here\", \"b\": \"choice here\", \"c\": \"choice here\", \"d\": \"choice here\"}, \"correct\": \"correct answer\"}, \"2\": {\"mcq\": \"multiple choice question\", \"options\": {\"a\": \"choice here\", \"b\": \"choice here\", \"c\": \"choice here\", \"d\": \"choice here\"}, \"correct\": \"correct answer\"}, \"3\": {\"mcq\": \"multiple choice question\", \"options\": {\"a\": \"choice here\", \"b\": \"choice here\", \"c\": \"choice here\", \"d\": \"choice here\"}, \"correct\": \"correct answer\"}}'"
      ]
     },
     "execution_count": 39,
     "metadata": {},
     "output_type": "execute_result"
    }
   ],
   "source": [
    "# serialie the python dictionary into JSON-formatted string\n",
    "json.dumps(RESPONSE_JSON)"
   ]
  },
  {
   "cell_type": "code",
   "execution_count": 41,
   "metadata": {},
   "outputs": [],
   "source": [
    "NUMBER = 5\n",
    "SUBJECT = \"Machine Learning\"\n",
    "TONE = \"Simple\""
   ]
  },
  {
   "cell_type": "code",
   "execution_count": 42,
   "metadata": {},
   "outputs": [
    {
     "name": "stdout",
     "output_type": "stream",
     "text": [
      "\n",
      "\n",
      "\u001b[1m> Entering new SequentialChain chain...\u001b[0m\n",
      "\n",
      "\n",
      "\u001b[1m> Entering new LLMChain chain...\u001b[0m\n",
      "Prompt after formatting:\n",
      "\u001b[32;1m\u001b[1;3m\n",
      "TEXT : The term machine learning was coined in 1959 by Arthur Samuel, an IBM employee and pioneer in the field of computer gaming and artificial intelligence. The synonym self-teaching computers was also used in this time period.\n",
      "\n",
      "Although the earliest machine learning model was introduced in the 1950s when Arthur Samuel invented a program that calculated the winning chance in checkers for each side, the history of machine learning roots back to decades of human desire and effort to study human cognitive processes. In 1949, Canadian psychologist Donald Hebb published the book The Organization of Behavior, in which he introduced a theoretical neural structure formed by certain interactions among nerve cells. Hebb's model of neurons interacting with one another set a groundwork for how AIs and machine learning algorithms work under nodes, or artificial neurons used by computers to communicate data. Other researchers who have studied human cognitive systems contributed to the modern machine learning technologies as well, including logician Walter Pitts and Warren McCulloch, who proposed the early mathematical models of neural networks to come up with algorithms that mirror human thought processes.\n",
      "\n",
      "By the early 1960s, an experimental \"learning machine\" with punched tape memory, called Cybertron, had been developed by Raytheon Company to analyse sonar signals, electrocardiograms, and speech patterns using rudimentary reinforcement learning. It was repetitively \"trained\" by a human operator/teacher to recognize patterns and equipped with a \"goof\" button to cause it to reevaluate incorrect decisions. A representative book on research into machine learning during the 1960s was Nilsson's book on Learning Machines, dealing mostly with machine learning for pattern classification. Interest related to pattern recognition continued into the 1970s, as described by Duda and Hart in 1973. In 1981 a report was given on using teaching strategies so that an artificial neural network learns to recognize 40 characters (26 letters, 10 digits, and 4 special symbols) from a computer terminal.\n",
      "\n",
      "Tom M. Mitchell provided a widely quoted, more formal definition of the algorithms studied in the machine learning field: \"A computer program is said to learn from experience E with respect to some class of tasks T and performance measure P if its performance at tasks in T, as measured by P, improves with experience E.\" This definition of the tasks in which machine learning is concerned offers a fundamentally operational definition rather than defining the field in cognitive terms. This follows Alan Turing's proposal in his paper \"Computing Machinery and Intelligence\", in which the question \"Can machines think?\" is replaced with the question \"Can machines do what we (as thinking entities) can do?\".\n",
      "\n",
      "Modern-day machine learning has two objectives. One is to classify data based on models which have been developed; the other purpose is to make predictions for future outcomes based on these models. A hypothetical algorithm specific to classifying data may use computer vision of moles coupled with supervised learning in order to train it to classify the cancerous moles. A machine learning algorithm for stock trading may inform the trader of future potential predictions.\n",
      "You are an expert MCQ maker.Given the above text, it is your job to create a quiz of 5 multiple choice questions for Machine Learning students in Simple tone.\n",
      "Make sure the questions are not repeated and check all the questions to be confirming the text as well.\n",
      "Make sure to format your response like RESPONSE_JSON below and use it as a guide. Ensure to make 5 MCQs\n",
      "\n",
      "### RESPONSE_JSON\n",
      "{\"1\": {\"mcq\": \"multiple choice question\", \"options\": {\"a\": \"choice here\", \"b\": \"choice here\", \"c\": \"choice here\", \"d\": \"choice here\"}, \"correct\": \"correct answer\"}, \"2\": {\"mcq\": \"multiple choice question\", \"options\": {\"a\": \"choice here\", \"b\": \"choice here\", \"c\": \"choice here\", \"d\": \"choice here\"}, \"correct\": \"correct answer\"}, \"3\": {\"mcq\": \"multiple choice question\", \"options\": {\"a\": \"choice here\", \"b\": \"choice here\", \"c\": \"choice here\", \"d\": \"choice here\"}, \"correct\": \"correct answer\"}}\n",
      "\u001b[0m\n",
      "\n",
      "\u001b[1m> Finished chain.\u001b[0m\n",
      "\n",
      "\n",
      "\u001b[1m> Entering new LLMChain chain...\u001b[0m\n",
      "Prompt after formatting:\n",
      "\u001b[32;1m\u001b[1;3m\n",
      "You are an expert english grammarian and writer. Given a Multiple Choice Quiz for Machine Learning students. You need to evaluate the complexity of the question and give a complete analysis of the quiz. Only use at max 50 words for complexity\n",
      "if the quiz is not at par with the cognitive and analytical abilities of the students, update the quiz questions which needs to be changed and change the tone such that it perfectly fits the student abilities \n",
      "Quiz_MCQs: \n",
      "```json\n",
      "{\n",
      "  \"1\": {\n",
      "    \"mcq\": \"Who coined the term \\\"machine learning\\\"?\",\n",
      "    \"options\": {\n",
      "      \"a\": \"Donald Hebb\",\n",
      "      \"b\": \"Alan Turing\",\n",
      "      \"c\": \"Arthur Samuel\",\n",
      "      \"d\": \"Tom M. Mitchell\"\n",
      "    },\n",
      "    \"correct\": \"c\"\n",
      "  },\n",
      "  \"2\": {\n",
      "    \"mcq\": \"What early device, developed by Raytheon, used reinforcement learning to analyze signals?\",\n",
      "    \"options\": {\n",
      "      \"a\": \"A neural network\",\n",
      "      \"b\": \"Cybertron\",\n",
      "      \"c\": \"A checkers-playing program\",\n",
      "      \"d\": \"A computer terminal\"\n",
      "    },\n",
      "    \"correct\": \"b\"\n",
      "  },\n",
      "  \"3\": {\n",
      "    \"mcq\": \"Which book introduced a theoretical neural structure that influenced AI and machine learning?\",\n",
      "    \"options\": {\n",
      "      \"a\": \"Nilsson's Learning Machines\",\n",
      "      \"b\": \"Duda and Hart's Pattern Recognition\",\n",
      "      \"c\": \"The Organization of Behavior by Donald Hebb\",\n",
      "      \"d\": \"Computing Machinery and Intelligence by Alan Turing\"\n",
      "    },\n",
      "    \"correct\": \"c\"\n",
      "  },\n",
      "  \"4\": {\n",
      "    \"mcq\": \"According to Tom M. Mitchell's definition, what improves with experience in machine learning?\",\n",
      "    \"options\": {\n",
      "      \"a\": \"The complexity of the algorithm\",\n",
      "      \"b\": \"The size of the dataset\",\n",
      "      \"c\": \"Performance at tasks\",\n",
      "      \"d\": \"The number of artificial neurons\"\n",
      "    },\n",
      "    \"correct\": \"c\"\n",
      "  },\n",
      "  \"5\": {\n",
      "    \"mcq\": \"Which of the following is NOT a modern objective of machine learning as described in the text?\",\n",
      "    \"options\": {\n",
      "      \"a\": \"Classifying data\",\n",
      "      \"b\": \"Predicting future outcomes\",\n",
      "      \"c\": \"Developing new programming languages\",\n",
      "      \"d\": \"Using developed models for prediction\"\n",
      "    },\n",
      "    \"correct\": \"c\"\n",
      "  }\n",
      "}\n",
      "```\n",
      " \n",
      "Check from an expert English Writer of the above quiz: \n",
      "\u001b[0m\n",
      "\n",
      "\u001b[1m> Finished chain.\u001b[0m\n",
      "\n",
      "\u001b[1m> Finished chain.\u001b[0m\n"
     ]
    }
   ],
   "source": [
    "response=generate_evaluate_chain.invoke(\n",
    "    {\n",
    "        \"text\" : TEXT,\n",
    "        \"number\" : NUMBER,\n",
    "        \"subject\" : SUBJECT,\n",
    "        \"tone\" : TONE,\n",
    "        \"response_json\" : json.dumps(RESPONSE_JSON)\n",
    "    }\n",
    ")"
   ]
  },
  {
   "cell_type": "code",
   "execution_count": 43,
   "metadata": {},
   "outputs": [
    {
     "data": {
      "text/plain": [
       "{'text': 'The term machine learning was coined in 1959 by Arthur Samuel, an IBM employee and pioneer in the field of computer gaming and artificial intelligence. The synonym self-teaching computers was also used in this time period.\\n\\nAlthough the earliest machine learning model was introduced in the 1950s when Arthur Samuel invented a program that calculated the winning chance in checkers for each side, the history of machine learning roots back to decades of human desire and effort to study human cognitive processes. In 1949, Canadian psychologist Donald Hebb published the book The Organization of Behavior, in which he introduced a theoretical neural structure formed by certain interactions among nerve cells. Hebb\\'s model of neurons interacting with one another set a groundwork for how AIs and machine learning algorithms work under nodes, or artificial neurons used by computers to communicate data. Other researchers who have studied human cognitive systems contributed to the modern machine learning technologies as well, including logician Walter Pitts and Warren McCulloch, who proposed the early mathematical models of neural networks to come up with algorithms that mirror human thought processes.\\n\\nBy the early 1960s, an experimental \"learning machine\" with punched tape memory, called Cybertron, had been developed by Raytheon Company to analyse sonar signals, electrocardiograms, and speech patterns using rudimentary reinforcement learning. It was repetitively \"trained\" by a human operator/teacher to recognize patterns and equipped with a \"goof\" button to cause it to reevaluate incorrect decisions. A representative book on research into machine learning during the 1960s was Nilsson\\'s book on Learning Machines, dealing mostly with machine learning for pattern classification. Interest related to pattern recognition continued into the 1970s, as described by Duda and Hart in 1973. In 1981 a report was given on using teaching strategies so that an artificial neural network learns to recognize 40 characters (26 letters, 10 digits, and 4 special symbols) from a computer terminal.\\n\\nTom M. Mitchell provided a widely quoted, more formal definition of the algorithms studied in the machine learning field: \"A computer program is said to learn from experience E with respect to some class of tasks T and performance measure P if its performance at tasks in T, as measured by P, improves with experience E.\" This definition of the tasks in which machine learning is concerned offers a fundamentally operational definition rather than defining the field in cognitive terms. This follows Alan Turing\\'s proposal in his paper \"Computing Machinery and Intelligence\", in which the question \"Can machines think?\" is replaced with the question \"Can machines do what we (as thinking entities) can do?\".\\n\\nModern-day machine learning has two objectives. One is to classify data based on models which have been developed; the other purpose is to make predictions for future outcomes based on these models. A hypothetical algorithm specific to classifying data may use computer vision of moles coupled with supervised learning in order to train it to classify the cancerous moles. A machine learning algorithm for stock trading may inform the trader of future potential predictions.',\n",
       " 'number': 5,\n",
       " 'subject': 'Machine Learning',\n",
       " 'tone': 'Simple',\n",
       " 'response_json': '{\"1\": {\"mcq\": \"multiple choice question\", \"options\": {\"a\": \"choice here\", \"b\": \"choice here\", \"c\": \"choice here\", \"d\": \"choice here\"}, \"correct\": \"correct answer\"}, \"2\": {\"mcq\": \"multiple choice question\", \"options\": {\"a\": \"choice here\", \"b\": \"choice here\", \"c\": \"choice here\", \"d\": \"choice here\"}, \"correct\": \"correct answer\"}, \"3\": {\"mcq\": \"multiple choice question\", \"options\": {\"a\": \"choice here\", \"b\": \"choice here\", \"c\": \"choice here\", \"d\": \"choice here\"}, \"correct\": \"correct answer\"}}',\n",
       " 'quiz': '```json\\n{\\n  \"1\": {\\n    \"mcq\": \"Who coined the term \\\\\"machine learning\\\\\"?\",\\n    \"options\": {\\n      \"a\": \"Donald Hebb\",\\n      \"b\": \"Alan Turing\",\\n      \"c\": \"Arthur Samuel\",\\n      \"d\": \"Tom M. Mitchell\"\\n    },\\n    \"correct\": \"c\"\\n  },\\n  \"2\": {\\n    \"mcq\": \"What early device, developed by Raytheon, used reinforcement learning to analyze signals?\",\\n    \"options\": {\\n      \"a\": \"A neural network\",\\n      \"b\": \"Cybertron\",\\n      \"c\": \"A checkers-playing program\",\\n      \"d\": \"A computer terminal\"\\n    },\\n    \"correct\": \"b\"\\n  },\\n  \"3\": {\\n    \"mcq\": \"Which book introduced a theoretical neural structure that influenced AI and machine learning?\",\\n    \"options\": {\\n      \"a\": \"Nilsson\\'s Learning Machines\",\\n      \"b\": \"Duda and Hart\\'s Pattern Recognition\",\\n      \"c\": \"The Organization of Behavior by Donald Hebb\",\\n      \"d\": \"Computing Machinery and Intelligence by Alan Turing\"\\n    },\\n    \"correct\": \"c\"\\n  },\\n  \"4\": {\\n    \"mcq\": \"According to Tom M. Mitchell\\'s definition, what improves with experience in machine learning?\",\\n    \"options\": {\\n      \"a\": \"The complexity of the algorithm\",\\n      \"b\": \"The size of the dataset\",\\n      \"c\": \"Performance at tasks\",\\n      \"d\": \"The number of artificial neurons\"\\n    },\\n    \"correct\": \"c\"\\n  },\\n  \"5\": {\\n    \"mcq\": \"Which of the following is NOT a modern objective of machine learning as described in the text?\",\\n    \"options\": {\\n      \"a\": \"Classifying data\",\\n      \"b\": \"Predicting future outcomes\",\\n      \"c\": \"Developing new programming languages\",\\n      \"d\": \"Using developed models for prediction\"\\n    },\\n    \"correct\": \"c\"\\n  }\\n}\\n```',\n",
       " 'review': 'The quiz exhibits moderate complexity. Questions 1 and 4 are straightforward; 2 and 3 demand more specialized knowledge; 5 assesses comprehension of a specific text (not provided).  The language is generally clear, but some questions could benefit from simplification.\\n\\n\\n**Complexity Analysis:** (Under 50 words)\\n\\nThe quiz blends simple recall (Q1, 4) with questions requiring deeper understanding of historical context (Q2, 3) and applied comprehension (Q5). The overall difficulty is moderate, though the reliance on external text (Q5) is problematic.\\n\\n\\n**Updated Quiz:**\\n\\n```json\\n{\\n  \"1\": {\\n    \"mcq\": \"Who is credited with first using the term \\\\\"machine learning\\\\\"?\",\\n    \"options\": {\\n      \"a\": \"Donald Hebb\",\\n      \"b\": \"Alan Turing\",\\n      \"c\": \"Arthur Samuel\",\\n      \"d\": \"Tom M. Mitchell\"\\n    },\\n    \"correct\": \"c\"\\n  },\\n  \"2\": {\\n    \"mcq\": \"Raytheon developed a device using reinforcement learning to analyze signals. What was it called?\",\\n    \"options\": {\\n      \"a\": \"A neural network\",\\n      \"b\": \"Cybertron\",\\n      \"c\": \"A checkers-playing program\",\\n      \"d\": \"A computer terminal\"\\n    },\\n    \"correct\": \"b\"\\n  },\\n  \"3\": {\\n    \"mcq\": \"Which book significantly impacted AI and machine learning by proposing a theoretical neural structure?\",\\n    \"options\": {\\n      \"a\": \"Nilsson\\'s Learning Machines\",\\n      \"b\": \"Duda and Hart\\'s Pattern Recognition\",\\n      \"c\": \"The Organization of Behavior (Hebb)\",\\n      \"d\": \"Computing Machinery and Intelligence (Turing)\"\\n    },\\n    \"correct\": \"c\"\\n  },\\n  \"4\": {\\n    \"mcq\": \"In Tom Mitchell\\'s definition, what improves as a machine learns?\",\\n    \"options\": {\\n      \"a\": \"Algorithm complexity\",\\n      \"b\": \"Dataset size\",\\n      \"c\": \"Task performance\",\\n      \"d\": \"Number of artificial neurons\"\\n    },\\n    \"correct\": \"c\"\\n  },\\n  \"5\": {\\n    \"mcq\": \"Which is NOT a typical goal of modern machine learning?\",\\n    \"options\": {\\n      \"a\": \"Data classification\",\\n      \"b\": \"Predicting future events\",\\n      \"c\": \"Creating new programming languages\",\\n      \"d\": \"Using models for prediction\"\\n    },\\n    \"correct\": \"c\"\\n  }\\n}\\n```\\n\\nChanges:  The wording is simplified for better clarity and accessibility, making the quiz more suitable for a wider range of machine learning students.  Question 5 is made independent of an external text.'}"
      ]
     },
     "execution_count": 43,
     "metadata": {},
     "output_type": "execute_result"
    }
   ],
   "source": [
    "response"
   ]
  },
  {
   "cell_type": "code",
   "execution_count": 50,
   "metadata": {},
   "outputs": [],
   "source": [
    "quiz=response.get(\"quiz\")\n",
    "quiz_cleaned = quiz.strip().removeprefix(\"```json\").removesuffix(\"```\")"
   ]
  },
  {
   "cell_type": "code",
   "execution_count": 51,
   "metadata": {},
   "outputs": [
    {
     "data": {
      "text/plain": [
       "{'1': {'mcq': 'Who coined the term \"machine learning\"?',\n",
       "  'options': {'a': 'Donald Hebb',\n",
       "   'b': 'Alan Turing',\n",
       "   'c': 'Arthur Samuel',\n",
       "   'd': 'Tom M. Mitchell'},\n",
       "  'correct': 'c'},\n",
       " '2': {'mcq': 'What early device, developed by Raytheon, used reinforcement learning to analyze signals?',\n",
       "  'options': {'a': 'A neural network',\n",
       "   'b': 'Cybertron',\n",
       "   'c': 'A checkers-playing program',\n",
       "   'd': 'A computer terminal'},\n",
       "  'correct': 'b'},\n",
       " '3': {'mcq': 'Which book introduced a theoretical neural structure that influenced AI and machine learning?',\n",
       "  'options': {'a': \"Nilsson's Learning Machines\",\n",
       "   'b': \"Duda and Hart's Pattern Recognition\",\n",
       "   'c': 'The Organization of Behavior by Donald Hebb',\n",
       "   'd': 'Computing Machinery and Intelligence by Alan Turing'},\n",
       "  'correct': 'c'},\n",
       " '4': {'mcq': \"According to Tom M. Mitchell's definition, what improves with experience in machine learning?\",\n",
       "  'options': {'a': 'The complexity of the algorithm',\n",
       "   'b': 'The size of the dataset',\n",
       "   'c': 'Performance at tasks',\n",
       "   'd': 'The number of artificial neurons'},\n",
       "  'correct': 'c'},\n",
       " '5': {'mcq': 'Which of the following is NOT a modern objective of machine learning as described in the text?',\n",
       "  'options': {'a': 'Classifying data',\n",
       "   'b': 'Predicting future outcomes',\n",
       "   'c': 'Developing new programming languages',\n",
       "   'd': 'Using developed models for prediction'},\n",
       "  'correct': 'c'}}"
      ]
     },
     "execution_count": 51,
     "metadata": {},
     "output_type": "execute_result"
    }
   ],
   "source": [
    "json.loads(quiz_cleaned)"
   ]
  },
  {
   "cell_type": "code",
   "execution_count": 54,
   "metadata": {},
   "outputs": [],
   "source": [
    "quiz=json.loads(quiz_cleaned)\n",
    "quiz_table_data=[]\n",
    "for key,value in quiz.items():\n",
    "    mcq=value[\"mcq\"]\n",
    "    options=\" | \".join(\n",
    "        [\n",
    "            f\"{option} : {option_value}\"\n",
    "            for option,option_value in value[\"options\"].items()\n",
    "        ]\n",
    "    )\n",
    "    correct=value[\"correct\"]\n",
    "    quiz_table_data.append({\"MCQ\":mcq,\"Choices\":options,\"Correct\":correct})\n"
   ]
  },
  {
   "cell_type": "code",
   "execution_count": 55,
   "metadata": {},
   "outputs": [
    {
     "data": {
      "text/plain": [
       "[{'MCQ': 'Who coined the term \"machine learning\"?',\n",
       "  'Choices': 'a : Donald Hebb | b : Alan Turing | c : Arthur Samuel | d : Tom M. Mitchell',\n",
       "  'Correct': 'c'},\n",
       " {'MCQ': 'What early device, developed by Raytheon, used reinforcement learning to analyze signals?',\n",
       "  'Choices': 'a : A neural network | b : Cybertron | c : A checkers-playing program | d : A computer terminal',\n",
       "  'Correct': 'b'},\n",
       " {'MCQ': 'Which book introduced a theoretical neural structure that influenced AI and machine learning?',\n",
       "  'Choices': \"a : Nilsson's Learning Machines | b : Duda and Hart's Pattern Recognition | c : The Organization of Behavior by Donald Hebb | d : Computing Machinery and Intelligence by Alan Turing\",\n",
       "  'Correct': 'c'},\n",
       " {'MCQ': \"According to Tom M. Mitchell's definition, what improves with experience in machine learning?\",\n",
       "  'Choices': 'a : The complexity of the algorithm | b : The size of the dataset | c : Performance at tasks | d : The number of artificial neurons',\n",
       "  'Correct': 'c'},\n",
       " {'MCQ': 'Which of the following is NOT a modern objective of machine learning as described in the text?',\n",
       "  'Choices': 'a : Classifying data | b : Predicting future outcomes | c : Developing new programming languages | d : Using developed models for prediction',\n",
       "  'Correct': 'c'}]"
      ]
     },
     "execution_count": 55,
     "metadata": {},
     "output_type": "execute_result"
    }
   ],
   "source": [
    "quiz_table_data"
   ]
  },
  {
   "cell_type": "code",
   "execution_count": 57,
   "metadata": {},
   "outputs": [],
   "source": [
    "quiz=pd.DataFrame(quiz_table_data)"
   ]
  },
  {
   "cell_type": "code",
   "execution_count": 58,
   "metadata": {},
   "outputs": [],
   "source": [
    "quiz.to_csv(\"machinelearning.csv\",index=False)"
   ]
  },
  {
   "cell_type": "code",
   "execution_count": 60,
   "metadata": {},
   "outputs": [
    {
     "data": {
      "text/plain": [
       "'03_05_2025_20_04_00'"
      ]
     },
     "execution_count": 60,
     "metadata": {},
     "output_type": "execute_result"
    }
   ],
   "source": [
    "from datetime import datetime\n",
    "datetime.now().strftime('%m_%d_%Y_%H_%M_%S')"
   ]
  },
  {
   "cell_type": "code",
   "execution_count": null,
   "metadata": {},
   "outputs": [],
   "source": []
  }
 ],
 "metadata": {
  "kernelspec": {
   "display_name": "Python 3",
   "language": "python",
   "name": "python3"
  },
  "language_info": {
   "codemirror_mode": {
    "name": "ipython",
    "version": 3
   },
   "file_extension": ".py",
   "mimetype": "text/x-python",
   "name": "python",
   "nbconvert_exporter": "python",
   "pygments_lexer": "ipython3",
   "version": "3.13.2"
  }
 },
 "nbformat": 4,
 "nbformat_minor": 2
}
